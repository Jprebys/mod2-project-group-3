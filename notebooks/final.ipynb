{
 "cells": [
  {
   "cell_type": "markdown",
   "metadata": {},
   "source": [
    "# Final Notebook for King County Housing Prices Report \n",
    "\n",
    "The purpose of this notebook is to layout the steps that our group took for the following parts of this project:\n",
    " - Data acquisition\n",
    " - Data cleaning/exploration\n",
    " - Modeling\n",
    " - Statistical Testing\n",
    " \n",
    "Included are all of the necessary code cells needed to recreate our project.\n",
    "\n",
    "## Data Acquisition\n",
    "\n",
    "Our data came from the King County website [here](https://info.kingcounty.gov/assessor/DataDownload/default.aspx). From this site we downloaded three .csv files that would make up the entirety of our dataset for the project. These were \n",
    " 1. Real Property Sales\n",
    " 2. Residential Building\n",
    " 3. Parcel\n",
    "\n",
    "With these three datasets, along with the provided Lookup table, we were able to get a lot of information on each property sale. The datasets were far too large to save and pass around intially; to make them easier to deal with, we imported them, joined them using their common Major and Minor PIN columns, and then filtered only those sales from 2019. We exported them into the data directory as 'master.csv'."
   ]
  },
  {
   "cell_type": "code",
   "execution_count": 14,
   "metadata": {},
   "outputs": [],
   "source": [
    "import pandas as pd\n",
    "import numpy as np\n",
    "import matplotlib.pyplot as plt\n",
    "import geopandas as gp\n",
    "from statsmodels.formula.api import ols\n",
    "import statsmodels.api as sm\n",
    "import scipy.stats as stats\n",
    "%matplotlib inline"
   ]
  },
  {
   "cell_type": "markdown",
   "metadata": {},
   "source": [
    "#### First we will import our unified data file"
   ]
  },
  {
   "cell_type": "code",
   "execution_count": 19,
   "metadata": {},
   "outputs": [],
   "source": [
    "# make sure the dtype of 'id' is object to preserve its formatting\n",
    "raw = pd.read_csv('../data/master.csv', low_memory=False, dtype={'id': object})"
   ]
  },
  {
   "cell_type": "markdown",
   "metadata": {},
   "source": [
    "#### Now we want to filter out items with a SalePrice of 0 or lower"
   ]
  },
  {
   "cell_type": "code",
   "execution_count": 21,
   "metadata": {},
   "outputs": [],
   "source": [
    "df = raw[raw.SalePrice > 0]"
   ]
  },
  {
   "cell_type": "markdown",
   "metadata": {},
   "source": [
    "#### Now we select the sales with the proper PropertyType codes\n",
    "The following code is of interest to us:\n",
    " - 11: Household, single family units\n",
    "\n",
    "These are not because they don't help us answer our questions about buying a house\n",
    "\n",
    " - 12: Multiple family residence (Residential, 2-4 units)\n",
    " - 13: Multiple family residence (Residential, 5+ units)\n",
    " - 14: Residential condominiums"
   ]
  },
  {
   "cell_type": "code",
   "execution_count": 23,
   "metadata": {},
   "outputs": [],
   "source": [
    "proptypes = [11]\n",
    "df = df[df.PropertyType.isin(proptypes)]"
   ]
  },
  {
   "cell_type": "markdown",
   "metadata": {},
   "source": [
    "## Modeling\n",
    "\n",
    "Next we will fit our first model that tries to indicate the sale prices of homes in 2019. Our first instinct was to make the total square footage of living space the dependant variable. We used StatsModels' ols function to generate our model."
   ]
  },
  {
   "cell_type": "code",
   "execution_count": 24,
   "metadata": {},
   "outputs": [],
   "source": [
    "fsm_df = df[[\"SalePrice\", \"SqFtTotLiving\"]].copy()\n",
    "fsm_df.dropna(inplace=True)\n",
    "formula = 'SalePrice ~ SqFtTotLiving'\n",
    "fsm = ols(formula=formula, data=fsm_df).fit()"
   ]
  },
  {
   "cell_type": "markdown",
   "metadata": {},
   "source": [
    "Here is an image of the best fit line on top of the data\n",
    "\n",
    "![](../src/regression.png)\n",
    "\n",
    "\n",
    "Now we need to see the details"
   ]
  },
  {
   "cell_type": "code",
   "execution_count": 27,
   "metadata": {},
   "outputs": [
    {
     "data": {
      "text/html": [
       "<table class=\"simpletable\">\n",
       "<caption>OLS Regression Results</caption>\n",
       "<tr>\n",
       "  <th>Dep. Variable:</th>        <td>SalePrice</td>    <th>  R-squared:         </th>  <td>   0.387</td>  \n",
       "</tr>\n",
       "<tr>\n",
       "  <th>Model:</th>                   <td>OLS</td>       <th>  Adj. R-squared:    </th>  <td>   0.387</td>  \n",
       "</tr>\n",
       "<tr>\n",
       "  <th>Method:</th>             <td>Least Squares</td>  <th>  F-statistic:       </th>  <td>1.187e+04</td> \n",
       "</tr>\n",
       "<tr>\n",
       "  <th>Date:</th>             <td>Sat, 20 Jun 2020</td> <th>  Prob (F-statistic):</th>   <td>  0.00</td>   \n",
       "</tr>\n",
       "<tr>\n",
       "  <th>Time:</th>                 <td>09:32:43</td>     <th>  Log-Likelihood:    </th> <td>-2.7203e+05</td>\n",
       "</tr>\n",
       "<tr>\n",
       "  <th>No. Observations:</th>      <td> 18807</td>      <th>  AIC:               </th>  <td>5.441e+05</td> \n",
       "</tr>\n",
       "<tr>\n",
       "  <th>Df Residuals:</th>          <td> 18805</td>      <th>  BIC:               </th>  <td>5.441e+05</td> \n",
       "</tr>\n",
       "<tr>\n",
       "  <th>Df Model:</th>              <td>     1</td>      <th>                     </th>      <td> </td>     \n",
       "</tr>\n",
       "<tr>\n",
       "  <th>Covariance Type:</th>      <td>nonrobust</td>    <th>                     </th>      <td> </td>     \n",
       "</tr>\n",
       "</table>\n",
       "<table class=\"simpletable\">\n",
       "<tr>\n",
       "        <td></td>           <th>coef</th>     <th>std err</th>      <th>t</th>      <th>P>|t|</th>  <th>[0.025</th>    <th>0.975]</th>  \n",
       "</tr>\n",
       "<tr>\n",
       "  <th>Intercept</th>     <td>-1.591e+04</td> <td> 8189.002</td> <td>   -1.942</td> <td> 0.052</td> <td> -3.2e+04</td> <td>  144.477</td>\n",
       "</tr>\n",
       "<tr>\n",
       "  <th>SqFtTotLiving</th> <td>  378.6638</td> <td>    3.476</td> <td>  108.935</td> <td> 0.000</td> <td>  371.850</td> <td>  385.477</td>\n",
       "</tr>\n",
       "</table>\n",
       "<table class=\"simpletable\">\n",
       "<tr>\n",
       "  <th>Omnibus:</th>       <td>24151.837</td> <th>  Durbin-Watson:     </th>   <td>   1.118</td>  \n",
       "</tr>\n",
       "<tr>\n",
       "  <th>Prob(Omnibus):</th>  <td> 0.000</td>   <th>  Jarque-Bera (JB):  </th> <td>12404873.130</td>\n",
       "</tr>\n",
       "<tr>\n",
       "  <th>Skew:</th>           <td> 6.729</td>   <th>  Prob(JB):          </th>   <td>    0.00</td>  \n",
       "</tr>\n",
       "<tr>\n",
       "  <th>Kurtosis:</th>       <td>128.096</td>  <th>  Cond. No.          </th>   <td>5.72e+03</td>  \n",
       "</tr>\n",
       "</table><br/><br/>Warnings:<br/>[1] Standard Errors assume that the covariance matrix of the errors is correctly specified.<br/>[2] The condition number is large, 5.72e+03. This might indicate that there are<br/>strong multicollinearity or other numerical problems."
      ],
      "text/plain": [
       "<class 'statsmodels.iolib.summary.Summary'>\n",
       "\"\"\"\n",
       "                            OLS Regression Results                            \n",
       "==============================================================================\n",
       "Dep. Variable:              SalePrice   R-squared:                       0.387\n",
       "Model:                            OLS   Adj. R-squared:                  0.387\n",
       "Method:                 Least Squares   F-statistic:                 1.187e+04\n",
       "Date:                Sat, 20 Jun 2020   Prob (F-statistic):               0.00\n",
       "Time:                        09:32:43   Log-Likelihood:            -2.7203e+05\n",
       "No. Observations:               18807   AIC:                         5.441e+05\n",
       "Df Residuals:                   18805   BIC:                         5.441e+05\n",
       "Df Model:                           1                                         \n",
       "Covariance Type:            nonrobust                                         \n",
       "=================================================================================\n",
       "                    coef    std err          t      P>|t|      [0.025      0.975]\n",
       "---------------------------------------------------------------------------------\n",
       "Intercept     -1.591e+04   8189.002     -1.942      0.052    -3.2e+04     144.477\n",
       "SqFtTotLiving   378.6638      3.476    108.935      0.000     371.850     385.477\n",
       "==============================================================================\n",
       "Omnibus:                    24151.837   Durbin-Watson:                   1.118\n",
       "Prob(Omnibus):                  0.000   Jarque-Bera (JB):         12404873.130\n",
       "Skew:                           6.729   Prob(JB):                         0.00\n",
       "Kurtosis:                     128.096   Cond. No.                     5.72e+03\n",
       "==============================================================================\n",
       "\n",
       "Warnings:\n",
       "[1] Standard Errors assume that the covariance matrix of the errors is correctly specified.\n",
       "[2] The condition number is large, 5.72e+03. This might indicate that there are\n",
       "strong multicollinearity or other numerical problems.\n",
       "\"\"\""
      ]
     },
     "execution_count": 27,
     "metadata": {},
     "output_type": "execute_result"
    }
   ],
   "source": [
    "fsm.summary()"
   ]
  },
  {
   "cell_type": "markdown",
   "metadata": {},
   "source": [
    "### First model\n",
    " - Our first model starts with an Rsquared value of .387\n",
    " - We have a coefficient of 378 for SqFtTotLiving\n",
    " - This coefficient can be interpreted as saying: for each additional square foot of living space, you can expect an increase of $387 to the sale price\n",
    "\n",
    "Let's check some of our linearity assumptions.\n",
    "\n",
    " > First we have homoscedasticity"
   ]
  },
  {
   "cell_type": "code",
   "execution_count": 31,
   "metadata": {},
   "outputs": [
    {
     "data": {
      "image/png": "[encoded data removed]",
      "text/plain": [
       "<Figure size 720x432 with 1 Axes>"
      ]
     },
     "metadata": {
      "needs_background": "light"
     },
     "output_type": "display_data"
    }
   ],
   "source": [
    "fsm_resids = fsm.resid\n",
    "y_hat = fsm.predict()\n",
    "fig, ax = plt.subplots(figsize=(10,6))\n",
    "ax.scatter(y_hat, fsm_resids);\n",
    "ax.set_title('Model Residuals vs Expected Values')\n",
    "ax.set_xlabel('Expected Value')\n",
    "ax.set_ylabel('Residual');"
   ]
  },
  {
   "cell_type": "markdown",
   "metadata": {},
   "source": [
    "It seems like our model is fairly heteroscedastic: it works better for lower expected values, but it becomes less reliable in the higher sale prices.\n",
    "\n",
    "Let's try adding in a bathroom count. We will count all types of bathrooms as 1 bathroom (rather than weighting them by type), this seems like how we expect bathrooms to affect price."
   ]
  },
  {
   "cell_type": "code",
   "execution_count": 33,
   "metadata": {},
   "outputs": [],
   "source": [
    "df['bathrooms'] = (df.BathHalfCount +\n",
    "                   df.Bath3qtrCount +\n",
    "                   df.BathFullCount)"
   ]
  },
  {
   "cell_type": "markdown",
   "metadata": {},
   "source": [
    "#### Now we fit a new model with total bathrooms and total sqft as our independant variables"
   ]
  },
  {
   "cell_type": "code",
   "execution_count": 42,
   "metadata": {},
   "outputs": [
    {
     "data": {
      "text/html": [
       "<table class=\"simpletable\">\n",
       "<caption>OLS Regression Results</caption>\n",
       "<tr>\n",
       "  <th>Dep. Variable:</th>        <td>SalePrice</td>    <th>  R-squared:         </th>  <td>   0.388</td>  \n",
       "</tr>\n",
       "<tr>\n",
       "  <th>Model:</th>                   <td>OLS</td>       <th>  Adj. R-squared:    </th>  <td>   0.388</td>  \n",
       "</tr>\n",
       "<tr>\n",
       "  <th>Method:</th>             <td>Least Squares</td>  <th>  F-statistic:       </th>  <td>   5955.</td>  \n",
       "</tr>\n",
       "<tr>\n",
       "  <th>Date:</th>             <td>Sat, 20 Jun 2020</td> <th>  Prob (F-statistic):</th>   <td>  0.00</td>   \n",
       "</tr>\n",
       "<tr>\n",
       "  <th>Time:</th>                 <td>11:18:28</td>     <th>  Log-Likelihood:    </th> <td>-2.7201e+05</td>\n",
       "</tr>\n",
       "<tr>\n",
       "  <th>No. Observations:</th>      <td> 18807</td>      <th>  AIC:               </th>  <td>5.440e+05</td> \n",
       "</tr>\n",
       "<tr>\n",
       "  <th>Df Residuals:</th>          <td> 18804</td>      <th>  BIC:               </th>  <td>5.441e+05</td> \n",
       "</tr>\n",
       "<tr>\n",
       "  <th>Df Model:</th>              <td>     2</td>      <th>                     </th>      <td> </td>     \n",
       "</tr>\n",
       "<tr>\n",
       "  <th>Covariance Type:</th>      <td>nonrobust</td>    <th>                     </th>      <td> </td>     \n",
       "</tr>\n",
       "</table>\n",
       "<table class=\"simpletable\">\n",
       "<tr>\n",
       "        <td></td>           <th>coef</th>     <th>std err</th>      <th>t</th>      <th>P>|t|</th>  <th>[0.025</th>    <th>0.975]</th>  \n",
       "</tr>\n",
       "<tr>\n",
       "  <th>Intercept</th>     <td> -3.97e+04</td> <td> 9399.471</td> <td>   -4.224</td> <td> 0.000</td> <td>-5.81e+04</td> <td>-2.13e+04</td>\n",
       "</tr>\n",
       "<tr>\n",
       "  <th>SqFtTotLiving</th> <td>  357.1903</td> <td>    5.429</td> <td>   65.788</td> <td> 0.000</td> <td>  346.548</td> <td>  367.832</td>\n",
       "</tr>\n",
       "<tr>\n",
       "  <th>bathrooms</th>     <td>  2.71e+04</td> <td> 5266.766</td> <td>    5.146</td> <td> 0.000</td> <td> 1.68e+04</td> <td> 3.74e+04</td>\n",
       "</tr>\n",
       "</table>\n",
       "<table class=\"simpletable\">\n",
       "<tr>\n",
       "  <th>Omnibus:</th>       <td>24183.808</td> <th>  Durbin-Watson:     </th>   <td>   1.116</td>  \n",
       "</tr>\n",
       "<tr>\n",
       "  <th>Prob(Omnibus):</th>  <td> 0.000</td>   <th>  Jarque-Bera (JB):  </th> <td>12469033.634</td>\n",
       "</tr>\n",
       "<tr>\n",
       "  <th>Skew:</th>           <td> 6.745</td>   <th>  Prob(JB):          </th>   <td>    0.00</td>  \n",
       "</tr>\n",
       "<tr>\n",
       "  <th>Kurtosis:</th>       <td>128.419</td>  <th>  Cond. No.          </th>   <td>6.88e+03</td>  \n",
       "</tr>\n",
       "</table><br/><br/>Warnings:<br/>[1] Standard Errors assume that the covariance matrix of the errors is correctly specified.<br/>[2] The condition number is large, 6.88e+03. This might indicate that there are<br/>strong multicollinearity or other numerical problems."
      ],
      "text/plain": [
       "<class 'statsmodels.iolib.summary.Summary'>\n",
       "\"\"\"\n",
       "                            OLS Regression Results                            \n",
       "==============================================================================\n",
       "Dep. Variable:              SalePrice   R-squared:                       0.388\n",
       "Model:                            OLS   Adj. R-squared:                  0.388\n",
       "Method:                 Least Squares   F-statistic:                     5955.\n",
       "Date:                Sat, 20 Jun 2020   Prob (F-statistic):               0.00\n",
       "Time:                        11:18:28   Log-Likelihood:            -2.7201e+05\n",
       "No. Observations:               18807   AIC:                         5.440e+05\n",
       "Df Residuals:                   18804   BIC:                         5.441e+05\n",
       "Df Model:                           2                                         \n",
       "Covariance Type:            nonrobust                                         \n",
       "=================================================================================\n",
       "                    coef    std err          t      P>|t|      [0.025      0.975]\n",
       "---------------------------------------------------------------------------------\n",
       "Intercept      -3.97e+04   9399.471     -4.224      0.000   -5.81e+04   -2.13e+04\n",
       "SqFtTotLiving   357.1903      5.429     65.788      0.000     346.548     367.832\n",
       "bathrooms       2.71e+04   5266.766      5.146      0.000    1.68e+04    3.74e+04\n",
       "==============================================================================\n",
       "Omnibus:                    24183.808   Durbin-Watson:                   1.116\n",
       "Prob(Omnibus):                  0.000   Jarque-Bera (JB):         12469033.634\n",
       "Skew:                           6.745   Prob(JB):                         0.00\n",
       "Kurtosis:                     128.419   Cond. No.                     6.88e+03\n",
       "==============================================================================\n",
       "\n",
       "Warnings:\n",
       "[1] Standard Errors assume that the covariance matrix of the errors is correctly specified.\n",
       "[2] The condition number is large, 6.88e+03. This might indicate that there are\n",
       "strong multicollinearity or other numerical problems.\n",
       "\"\"\""
      ]
     },
     "execution_count": 42,
     "metadata": {},
     "output_type": "execute_result"
    }
   ],
   "source": [
    "ssm_df = df[[\"SalePrice\", \"SqFtTotLiving\", \"bathrooms\"]].copy()\n",
    "ssm_df.dropna(inplace=True)\n",
    "formula = 'SalePrice ~ SqFtTotLiving + bathrooms'\n",
    "ssm = ols(formula=formula, data=ssm_df).fit()\n",
    "ssm.summary()"
   ]
  },
  {
   "cell_type": "markdown",
   "metadata": {},
   "source": [
    "### Second model\n",
    " - Our second model has an Rsquared value of .388\n",
    " - We have coefficients of 357 for SqFtTotLiving and 27,100 for bathrooms\n",
    " - These coefficients can be interpreted as saying: for each additional square foot of living space, you can expect an increase of $357 to the sale price, and for each additional bathroom the sale price would increase 27,100 dollars\n",
    "\n",
    "Let's check some of our linearity assumptions.\n",
    "\n",
    " > Let's see how correlated bathrooms and square footage are"
   ]
  },
  {
   "cell_type": "code",
   "execution_count": 41,
   "metadata": {},
   "outputs": [
    {
     "data": {
      "text/html": [
       "<div>\n",
       "<style scoped>\n",
       "    .dataframe tbody tr th:only-of-type {\n",
       "        vertical-align: middle;\n",
       "    }\n",
       "\n",
       "    .dataframe tbody tr th {\n",
       "        vertical-align: top;\n",
       "    }\n",
       "\n",
       "    .dataframe thead th {\n",
       "        text-align: right;\n",
       "    }\n",
       "</style>\n",
       "<table border=\"1\" class=\"dataframe\">\n",
       "  <thead>\n",
       "    <tr style=\"text-align: right;\">\n",
       "      <th></th>\n",
       "      <th>SalePrice</th>\n",
       "      <th>SqFtTotLiving</th>\n",
       "      <th>bathrooms</th>\n",
       "    </tr>\n",
       "  </thead>\n",
       "  <tbody>\n",
       "    <tr>\n",
       "      <td>SalePrice</td>\n",
       "      <td>1.000000</td>\n",
       "      <td>0.622011</td>\n",
       "      <td>0.496833</td>\n",
       "    </tr>\n",
       "    <tr>\n",
       "      <td>SqFtTotLiving</td>\n",
       "      <td>0.622011</td>\n",
       "      <td>1.000000</td>\n",
       "      <td>0.768551</td>\n",
       "    </tr>\n",
       "    <tr>\n",
       "      <td>bathrooms</td>\n",
       "      <td>0.496833</td>\n",
       "      <td>0.768551</td>\n",
       "      <td>1.000000</td>\n",
       "    </tr>\n",
       "  </tbody>\n",
       "</table>\n",
       "</div>"
      ],
      "text/plain": [
       "               SalePrice  SqFtTotLiving  bathrooms\n",
       "SalePrice       1.000000       0.622011   0.496833\n",
       "SqFtTotLiving   0.622011       1.000000   0.768551\n",
       "bathrooms       0.496833       0.768551   1.000000"
      ]
     },
     "execution_count": 41,
     "metadata": {},
     "output_type": "execute_result"
    }
   ],
   "source": [
    "ssm_df.corr()"
   ]
  },
  {
   "cell_type": "markdown",
   "metadata": {},
   "source": [
    "It appears that the number of bathrooms a home has is highly\n",
    "correlated with the total square footage, which is not surprising. For this reason, we should not use both features as indicators in our model. We will stick with square footage.\n",
    "\n",
    "> Our group had the idea to explore location's effect on sale prices, so we generated a map to visualize the average home prices in different ZIP codes. The code for generating this map with its annotations can be found in the maptime notebook [here](exploratory/jp-4-maptime.ipynb). The result of this code is displayed below:\n",
    "\n",
    "![](../src/map.png)"
   ]
  },
  {
   "cell_type": "markdown",
   "metadata": {},
   "source": [
    "Seeing this, it seemed clear that there are at least two distinct regions when it comes to home sale prices in the county, so we divided the county in two:\n",
    "\n",
    " - The three darkest ZIP codes (98039, 98004, 98040) we put into one group that we called the 'money zone'\n",
    " - The rest of the ZIP codes were not in the money zone\n",
    " \n",
    "We'll add this as a categorical column to our data"
   ]
  },
  {
   "cell_type": "code",
   "execution_count": 44,
   "metadata": {},
   "outputs": [],
   "source": [
    "money_zone = ['98039', '98004', '98040']\n",
    "df['money_zone'] = df.ZipCode.isin(money_zone)"
   ]
  },
  {
   "cell_type": "markdown",
   "metadata": {},
   "source": [
    "Now let's fit a model including this"
   ]
  },
  {
   "cell_type": "code",
   "execution_count": 46,
   "metadata": {},
   "outputs": [
    {
     "data": {
      "text/html": [
       "<table class=\"simpletable\">\n",
       "<caption>OLS Regression Results</caption>\n",
       "<tr>\n",
       "  <th>Dep. Variable:</th>        <td>SalePrice</td>    <th>  R-squared:         </th>  <td>   0.468</td>  \n",
       "</tr>\n",
       "<tr>\n",
       "  <th>Model:</th>                   <td>OLS</td>       <th>  Adj. R-squared:    </th>  <td>   0.468</td>  \n",
       "</tr>\n",
       "<tr>\n",
       "  <th>Method:</th>             <td>Least Squares</td>  <th>  F-statistic:       </th>  <td>   8264.</td>  \n",
       "</tr>\n",
       "<tr>\n",
       "  <th>Date:</th>             <td>Sat, 20 Jun 2020</td> <th>  Prob (F-statistic):</th>   <td>  0.00</td>   \n",
       "</tr>\n",
       "<tr>\n",
       "  <th>Time:</th>                 <td>11:55:30</td>     <th>  Log-Likelihood:    </th> <td>-2.7069e+05</td>\n",
       "</tr>\n",
       "<tr>\n",
       "  <th>No. Observations:</th>      <td> 18807</td>      <th>  AIC:               </th>  <td>5.414e+05</td> \n",
       "</tr>\n",
       "<tr>\n",
       "  <th>Df Residuals:</th>          <td> 18804</td>      <th>  BIC:               </th>  <td>5.414e+05</td> \n",
       "</tr>\n",
       "<tr>\n",
       "  <th>Df Model:</th>              <td>     2</td>      <th>                     </th>      <td> </td>     \n",
       "</tr>\n",
       "<tr>\n",
       "  <th>Covariance Type:</th>      <td>nonrobust</td>    <th>                     </th>      <td> </td>     \n",
       "</tr>\n",
       "</table>\n",
       "<table class=\"simpletable\">\n",
       "<tr>\n",
       "           <td></td>             <th>coef</th>     <th>std err</th>      <th>t</th>      <th>P>|t|</th>  <th>[0.025</th>    <th>0.975]</th>  \n",
       "</tr>\n",
       "<tr>\n",
       "  <th>Intercept</th>          <td> 2.928e+04</td> <td> 7676.583</td> <td>    3.814</td> <td> 0.000</td> <td> 1.42e+04</td> <td> 4.43e+04</td>\n",
       "</tr>\n",
       "<tr>\n",
       "  <th>money_zone[T.True]</th> <td> 1.076e+06</td> <td> 2.01e+04</td> <td>   53.459</td> <td> 0.000</td> <td> 1.04e+06</td> <td> 1.12e+06</td>\n",
       "</tr>\n",
       "<tr>\n",
       "  <th>SqFtTotLiving</th>      <td>  344.5572</td> <td>    3.301</td> <td>  104.381</td> <td> 0.000</td> <td>  338.087</td> <td>  351.027</td>\n",
       "</tr>\n",
       "</table>\n",
       "<table class=\"simpletable\">\n",
       "<tr>\n",
       "  <th>Omnibus:</th>       <td>23724.011</td> <th>  Durbin-Watson:     </th>   <td>   1.178</td>  \n",
       "</tr>\n",
       "<tr>\n",
       "  <th>Prob(Omnibus):</th>  <td> 0.000</td>   <th>  Jarque-Bera (JB):  </th> <td>12006715.882</td>\n",
       "</tr>\n",
       "<tr>\n",
       "  <th>Skew:</th>           <td> 6.498</td>   <th>  Prob(JB):          </th>   <td>    0.00</td>  \n",
       "</tr>\n",
       "<tr>\n",
       "  <th>Kurtosis:</th>       <td>126.098</td>  <th>  Cond. No.          </th>   <td>1.51e+04</td>  \n",
       "</tr>\n",
       "</table><br/><br/>Warnings:<br/>[1] Standard Errors assume that the covariance matrix of the errors is correctly specified.<br/>[2] The condition number is large, 1.51e+04. This might indicate that there are<br/>strong multicollinearity or other numerical problems."
      ],
      "text/plain": [
       "<class 'statsmodels.iolib.summary.Summary'>\n",
       "\"\"\"\n",
       "                            OLS Regression Results                            \n",
       "==============================================================================\n",
       "Dep. Variable:              SalePrice   R-squared:                       0.468\n",
       "Model:                            OLS   Adj. R-squared:                  0.468\n",
       "Method:                 Least Squares   F-statistic:                     8264.\n",
       "Date:                Sat, 20 Jun 2020   Prob (F-statistic):               0.00\n",
       "Time:                        11:55:30   Log-Likelihood:            -2.7069e+05\n",
       "No. Observations:               18807   AIC:                         5.414e+05\n",
       "Df Residuals:                   18804   BIC:                         5.414e+05\n",
       "Df Model:                           2                                         \n",
       "Covariance Type:            nonrobust                                         \n",
       "======================================================================================\n",
       "                         coef    std err          t      P>|t|      [0.025      0.975]\n",
       "--------------------------------------------------------------------------------------\n",
       "Intercept           2.928e+04   7676.583      3.814      0.000    1.42e+04    4.43e+04\n",
       "money_zone[T.True]  1.076e+06   2.01e+04     53.459      0.000    1.04e+06    1.12e+06\n",
       "SqFtTotLiving        344.5572      3.301    104.381      0.000     338.087     351.027\n",
       "==============================================================================\n",
       "Omnibus:                    23724.011   Durbin-Watson:                   1.178\n",
       "Prob(Omnibus):                  0.000   Jarque-Bera (JB):         12006715.882\n",
       "Skew:                           6.498   Prob(JB):                         0.00\n",
       "Kurtosis:                     126.098   Cond. No.                     1.51e+04\n",
       "==============================================================================\n",
       "\n",
       "Warnings:\n",
       "[1] Standard Errors assume that the covariance matrix of the errors is correctly specified.\n",
       "[2] The condition number is large, 1.51e+04. This might indicate that there are\n",
       "strong multicollinearity or other numerical problems.\n",
       "\"\"\""
      ]
     },
     "execution_count": 46,
     "metadata": {},
     "output_type": "execute_result"
    }
   ],
   "source": [
    "tsm_df = df[[\"SalePrice\", \"SqFtTotLiving\", \"money_zone\"]].copy()\n",
    "tsm_df.dropna(inplace=True)\n",
    "formula = 'SalePrice ~ SqFtTotLiving + money_zone'\n",
    "tsm = ols(formula=formula, data=tsm_df).fit()\n",
    "tsm.summary()"
   ]
  },
  {
   "cell_type": "markdown",
   "metadata": {},
   "source": [
    "### Third model\n",
    " - Our third model has an Rsquared value of .468\n",
    " - We have coefficients of 344 for SqFtTotLiving, 1,076,000 for money zone\n",
    " - These coefficients can be interpreted as saying: for each additional square foot of living space, you can expect an increase of $344 to the sale price, and all things else the same, being inside this three ZIP code zone will increase the price by about 1 million dollars\n",
    " - The intercept coefficient of 29,280 refers to the expected price for a zero sqft house outside of the 'money zone'\n",
    "\n",
    "Let's check some of our linearity assumptions.\n",
    "\n",
    " > Let's see how correlated square footage and the 'money zone' are"
   ]
  },
  {
   "cell_type": "code",
   "execution_count": 48,
   "metadata": {},
   "outputs": [
    {
     "data": {
      "text/html": [
       "<div>\n",
       "<style scoped>\n",
       "    .dataframe tbody tr th:only-of-type {\n",
       "        vertical-align: middle;\n",
       "    }\n",
       "\n",
       "    .dataframe tbody tr th {\n",
       "        vertical-align: top;\n",
       "    }\n",
       "\n",
       "    .dataframe thead th {\n",
       "        text-align: right;\n",
       "    }\n",
       "</style>\n",
       "<table border=\"1\" class=\"dataframe\">\n",
       "  <thead>\n",
       "    <tr style=\"text-align: right;\">\n",
       "      <th></th>\n",
       "      <th>SalePrice</th>\n",
       "      <th>SqFtTotLiving</th>\n",
       "      <th>money_zone</th>\n",
       "    </tr>\n",
       "  </thead>\n",
       "  <tbody>\n",
       "    <tr>\n",
       "      <td>SalePrice</td>\n",
       "      <td>1.000000</td>\n",
       "      <td>0.622011</td>\n",
       "      <td>0.399264</td>\n",
       "    </tr>\n",
       "    <tr>\n",
       "      <td>SqFtTotLiving</td>\n",
       "      <td>0.622011</td>\n",
       "      <td>1.000000</td>\n",
       "      <td>0.193275</td>\n",
       "    </tr>\n",
       "    <tr>\n",
       "      <td>money_zone</td>\n",
       "      <td>0.399264</td>\n",
       "      <td>0.193275</td>\n",
       "      <td>1.000000</td>\n",
       "    </tr>\n",
       "  </tbody>\n",
       "</table>\n",
       "</div>"
      ],
      "text/plain": [
       "               SalePrice  SqFtTotLiving  money_zone\n",
       "SalePrice       1.000000       0.622011    0.399264\n",
       "SqFtTotLiving   0.622011       1.000000    0.193275\n",
       "money_zone      0.399264       0.193275    1.000000"
      ]
     },
     "execution_count": 48,
     "metadata": {},
     "output_type": "execute_result"
    }
   ],
   "source": [
    "tsm_df.corr()"
   ]
  },
  {
   "cell_type": "code",
   "execution_count": null,
   "metadata": {},
   "outputs": [],
   "source": []
  }
 ],
 "metadata": {
  "kernelspec": {
   "display_name": "learn-env",
   "language": "python",
   "name": "learn-env"
  },
  "language_info": {
   "codemirror_mode": {
    "name": "ipython",
    "version": 3
   },
   "file_extension": ".py",
   "mimetype": "text/x-python",
   "name": "python",
   "nbconvert_exporter": "python",
   "pygments_lexer": "ipython3",
   "version": "3.6.9"
  }
 },
 "nbformat": 4,
 "nbformat_minor": 4
}
